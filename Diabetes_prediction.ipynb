{
 "cells": [
  {
   "cell_type": "markdown",
   "id": "93ccd739-ffa7-4858-87aa-59b15bf281eb",
   "metadata": {},
   "source": [
    "\n",
    "# Analyzing the Diabetes Prediction Dataset\n",
    "\n",
    "\n",
    "\n",
    "# Project Overview\n",
    "\n",
    "This project analyzes a dataset to understand and predict factors that contribute to diabetes. The dataset includes information about people's age, gender, body mass index (BMI), blood glucose levels, and more.\n",
    "\n",
    "\n",
    "# Why is this Analysis Important?\n",
    "\n",
    "\n",
    "By identifying patterns and relationships between these variables, we can develop better strategies for preventing and treating diabetes. Understanding risk factors like hypertension, BMI, and blood glucose levels can improve early detection and personalized healthcare.\n",
    "\n",
    "\n",
    "# Who will Benefit from this Analysis?\n",
    "\n",
    "\n",
    "This analysis will benefit:\n",
    "\n",
    "- Healthcare professionals: to improve patient advice and education\n",
    "- Researchers: to develop more accurate prediction models and guide future research\n",
    "- Policy makers and public health experts: to design prevention and health promotion programs\n",
    "\n",
    "\n",
    "**Original Data Source**: Kaggle - Diabetes Prediction Dataset\n",
    "\n",
    "\n",
    "# Dataset Description\n",
    "\n",
    "\n",
    "The original dataset comes from Kaggle's Diabetes Prediction Dataset. The variables include:\n",
    "\n",
    "- Gender\n",
    "- Age\n",
    "- Heart disease history\n",
    "- Smoking history\n",
    "- BMI\n",
    "- Blood glucose level\n",
    "- Diabetes status\n",
    "\n",
    "Preparing the Work Environment\n",
    "\n",
    "\n",
    "Next, we'll prepare our work environment by importing necessary libraries and loading the data."
   ]
  },
  {
   "cell_type": "code",
   "execution_count": 2,
   "id": "075b3686-76ce-47b7-96f8-e8c9c8b3fd1c",
   "metadata": {},
   "outputs": [],
   "source": [
    "import pandas as pd\n",
    "import numpy as np\n",
    "import matplotlib.pyplot as plt\n",
    "from sklearn.model_selection import train_test_split\n",
    "from sklearn.linear_model import LogisticRegression\n",
    "from sklearn.metrics import accuracy_score, classification_report, confusion_matrix\n",
    "\n",
    "# Load the dataset\n",
    "df = pd.read_csv('diabetes_prediction_dataset.csv')"
   ]
  },
  {
   "cell_type": "code",
   "execution_count": 6,
   "id": "146e7e58-cdb6-4f9d-a97c-3e242f845ebf",
   "metadata": {},
   "outputs": [],
   "source": [
    "# Import libraries\n",
    "import pandas as pd\n",
    "import numpy as np\n",
    "import matplotlib.pyplot as plt\n",
    "import seaborn as sns\n",
    "from scipy.stats import chi2_contingency\n",
    "%matplotlib inline"
   ]
  },
  {
   "cell_type": "code",
   "execution_count": 8,
   "id": "11bbecfa-aa33-4c3f-be8e-20652eb5f7df",
   "metadata": {},
   "outputs": [],
   "source": [
    "import warnings\n",
    "warnings.filterwarnings(\"ignore\")"
   ]
  },
  {
   "cell_type": "code",
   "execution_count": 10,
   "id": "3f112154-8731-48b5-b65b-57e4e18383bb",
   "metadata": {},
   "outputs": [
    {
     "name": "stdout",
     "output_type": "stream",
     "text": [
      "Observaciones : 100,000\n",
      "Columnas      : 9\n"
     ]
    }
   ],
   "source": [
    "# Load the dataset\n",
    "\n",
    "df = pd.read_csv(\"diabetes_prediction_dataset.csv\", delimiter = ',')\n",
    "print(f\"Observaciones : {df.shape[0]:,}\")\n",
    "print(f\"Columnas      : {df.shape[1]}\")"
   ]
  },
  {
   "cell_type": "code",
   "execution_count": 12,
   "id": "837e8947-88a3-413a-afbd-ad4ac8d6b5b6",
   "metadata": {},
   "outputs": [
    {
     "data": {
      "text/plain": [
       "Index(['gender', 'age', 'hypertension', 'heart_disease', 'smoking_history',\n",
       "       'bmi', 'HbA1c_level', 'blood_glucose_level', 'diabetes'],\n",
       "      dtype='object')"
      ]
     },
     "execution_count": 12,
     "metadata": {},
     "output_type": "execute_result"
    }
   ],
   "source": [
    "df.columns"
   ]
  },
  {
   "cell_type": "code",
   "execution_count": 14,
   "id": "c053c2de-8b13-4126-9625-603ea964efe3",
   "metadata": {},
   "outputs": [
    {
     "data": {
      "text/html": [
       "<div>\n",
       "<style scoped>\n",
       "    .dataframe tbody tr th:only-of-type {\n",
       "        vertical-align: middle;\n",
       "    }\n",
       "\n",
       "    .dataframe tbody tr th {\n",
       "        vertical-align: top;\n",
       "    }\n",
       "\n",
       "    .dataframe thead th {\n",
       "        text-align: right;\n",
       "    }\n",
       "</style>\n",
       "<table border=\"1\" class=\"dataframe\">\n",
       "  <thead>\n",
       "    <tr style=\"text-align: right;\">\n",
       "      <th></th>\n",
       "      <th>gender</th>\n",
       "      <th>age</th>\n",
       "      <th>hypertension</th>\n",
       "      <th>heart_disease</th>\n",
       "      <th>smoking_history</th>\n",
       "      <th>bmi</th>\n",
       "      <th>HbA1c_level</th>\n",
       "      <th>blood_glucose_level</th>\n",
       "      <th>diabetes</th>\n",
       "    </tr>\n",
       "  </thead>\n",
       "  <tbody>\n",
       "    <tr>\n",
       "      <th>0</th>\n",
       "      <td>Female</td>\n",
       "      <td>80.0</td>\n",
       "      <td>0</td>\n",
       "      <td>1</td>\n",
       "      <td>never</td>\n",
       "      <td>25.19</td>\n",
       "      <td>6.6</td>\n",
       "      <td>140</td>\n",
       "      <td>0</td>\n",
       "    </tr>\n",
       "    <tr>\n",
       "      <th>1</th>\n",
       "      <td>Female</td>\n",
       "      <td>54.0</td>\n",
       "      <td>0</td>\n",
       "      <td>0</td>\n",
       "      <td>No Info</td>\n",
       "      <td>27.32</td>\n",
       "      <td>6.6</td>\n",
       "      <td>80</td>\n",
       "      <td>0</td>\n",
       "    </tr>\n",
       "    <tr>\n",
       "      <th>2</th>\n",
       "      <td>Male</td>\n",
       "      <td>28.0</td>\n",
       "      <td>0</td>\n",
       "      <td>0</td>\n",
       "      <td>never</td>\n",
       "      <td>27.32</td>\n",
       "      <td>5.7</td>\n",
       "      <td>158</td>\n",
       "      <td>0</td>\n",
       "    </tr>\n",
       "    <tr>\n",
       "      <th>3</th>\n",
       "      <td>Female</td>\n",
       "      <td>36.0</td>\n",
       "      <td>0</td>\n",
       "      <td>0</td>\n",
       "      <td>current</td>\n",
       "      <td>23.45</td>\n",
       "      <td>5.0</td>\n",
       "      <td>155</td>\n",
       "      <td>0</td>\n",
       "    </tr>\n",
       "    <tr>\n",
       "      <th>4</th>\n",
       "      <td>Male</td>\n",
       "      <td>76.0</td>\n",
       "      <td>1</td>\n",
       "      <td>1</td>\n",
       "      <td>current</td>\n",
       "      <td>20.14</td>\n",
       "      <td>4.8</td>\n",
       "      <td>155</td>\n",
       "      <td>0</td>\n",
       "    </tr>\n",
       "  </tbody>\n",
       "</table>\n",
       "</div>"
      ],
      "text/plain": [
       "   gender   age  hypertension  heart_disease smoking_history    bmi  \\\n",
       "0  Female  80.0             0              1           never  25.19   \n",
       "1  Female  54.0             0              0         No Info  27.32   \n",
       "2    Male  28.0             0              0           never  27.32   \n",
       "3  Female  36.0             0              0         current  23.45   \n",
       "4    Male  76.0             1              1         current  20.14   \n",
       "\n",
       "   HbA1c_level  blood_glucose_level  diabetes  \n",
       "0          6.6                  140         0  \n",
       "1          6.6                   80         0  \n",
       "2          5.7                  158         0  \n",
       "3          5.0                  155         0  \n",
       "4          4.8                  155         0  "
      ]
     },
     "execution_count": 14,
     "metadata": {},
     "output_type": "execute_result"
    }
   ],
   "source": [
    "df.head()"
   ]
  },
  {
   "cell_type": "code",
   "execution_count": 16,
   "id": "95b5a59b-9a1b-4599-a06b-ab52a5563c5b",
   "metadata": {},
   "outputs": [
    {
     "name": "stdout",
     "output_type": "stream",
     "text": [
      "<class 'pandas.core.frame.DataFrame'>\n",
      "RangeIndex: 100000 entries, 0 to 99999\n",
      "Data columns (total 9 columns):\n",
      " #   Column               Non-Null Count   Dtype  \n",
      "---  ------               --------------   -----  \n",
      " 0   gender               100000 non-null  object \n",
      " 1   age                  100000 non-null  float64\n",
      " 2   hypertension         100000 non-null  int64  \n",
      " 3   heart_disease        100000 non-null  int64  \n",
      " 4   smoking_history      100000 non-null  object \n",
      " 5   bmi                  100000 non-null  float64\n",
      " 6   HbA1c_level          100000 non-null  float64\n",
      " 7   blood_glucose_level  100000 non-null  int64  \n",
      " 8   diabetes             100000 non-null  int64  \n",
      "dtypes: float64(3), int64(4), object(2)\n",
      "memory usage: 6.9+ MB\n"
     ]
    }
   ],
   "source": [
    "df.info()"
   ]
  },
  {
   "cell_type": "code",
   "execution_count": 18,
   "id": "f39e7881-1a00-46e6-815e-b62accc22a2e",
   "metadata": {},
   "outputs": [
    {
     "name": "stdout",
     "output_type": "stream",
     "text": [
      "**Column:** gender\n",
      "gender\n",
      "Female    58552\n",
      "Male      41430\n",
      "Other        18\n",
      "Name: count, dtype: int64\n",
      "\n",
      "\n",
      "**Column:** age\n",
      "age\n",
      "80.00    5621\n",
      "51.00    1619\n",
      "47.00    1574\n",
      "48.00    1568\n",
      "53.00    1542\n",
      "         ... \n",
      "1.00       83\n",
      "0.48       83\n",
      "0.40       66\n",
      "0.16       59\n",
      "0.08       36\n",
      "Name: count, Length: 102, dtype: int64\n",
      "\n",
      "\n",
      "**Column:** hypertension\n",
      "hypertension\n",
      "0    92515\n",
      "1     7485\n",
      "Name: count, dtype: int64\n",
      "\n",
      "\n",
      "**Column:** heart_disease\n",
      "heart_disease\n",
      "0    96058\n",
      "1     3942\n",
      "Name: count, dtype: int64\n",
      "\n",
      "\n",
      "**Column:** smoking_history\n",
      "smoking_history\n",
      "No Info        35816\n",
      "never          35095\n",
      "former          9352\n",
      "current         9286\n",
      "not current     6447\n",
      "ever            4004\n",
      "Name: count, dtype: int64\n",
      "\n",
      "\n",
      "**Column:** bmi\n",
      "bmi\n",
      "27.32    25495\n",
      "23.00      103\n",
      "27.12      101\n",
      "27.80      100\n",
      "24.96      100\n",
      "         ...  \n",
      "54.29        1\n",
      "55.18        1\n",
      "53.41        1\n",
      "11.75        1\n",
      "12.77        1\n",
      "Name: count, Length: 4247, dtype: int64\n",
      "\n",
      "\n",
      "**Column:** HbA1c_level\n",
      "HbA1c_level\n",
      "6.6    8540\n",
      "5.7    8413\n",
      "6.5    8362\n",
      "5.8    8321\n",
      "6.0    8295\n",
      "6.2    8269\n",
      "6.1    8048\n",
      "3.5    7662\n",
      "4.8    7597\n",
      "4.5    7585\n",
      "4.0    7542\n",
      "5.0    7471\n",
      "8.2     661\n",
      "8.8     661\n",
      "9.0     654\n",
      "7.5     643\n",
      "6.8     642\n",
      "7.0     634\n",
      "Name: count, dtype: int64\n",
      "\n",
      "\n",
      "**Column:** blood_glucose_level\n",
      "blood_glucose_level\n",
      "130    7794\n",
      "159    7759\n",
      "140    7732\n",
      "160    7712\n",
      "126    7702\n",
      "145    7679\n",
      "200    7600\n",
      "155    7575\n",
      "90     7112\n",
      "80     7106\n",
      "158    7026\n",
      "100    7025\n",
      "85     6901\n",
      "280     729\n",
      "300     674\n",
      "240     636\n",
      "260     635\n",
      "220     603\n",
      "Name: count, dtype: int64\n",
      "\n",
      "\n",
      "**Column:** diabetes\n",
      "diabetes\n",
      "0    91500\n",
      "1     8500\n",
      "Name: count, dtype: int64\n",
      "\n",
      "\n"
     ]
    }
   ],
   "source": [
    "# Iterate through each column in the DataFrame\n",
    "for col in df.columns:\n",
    "    # Calculate and display the count of each value in the column\n",
    "    print(f\"**Column:** {col}\")\n",
    "    print(df[col].value_counts())\n",
    "    print(\"\\n\")"
   ]
  },
  {
   "cell_type": "code",
   "execution_count": 22,
   "id": "69cd71a8-2ec2-49c7-b903-fc04b76b6d14",
   "metadata": {},
   "outputs": [],
   "source": [
    "# Define a function to extract numerical and categorical columns separately\n",
    "def get_num_cat_cols(df):\n",
    "    \"\"\"\n",
    "    This function takes a DataFrame as input and returns two lists:\n",
    "    - Numerical columns\n",
    "    - Categorical columns\n",
    "    \"\"\"\n",
    "    # Extract numerical columns\n",
    "    num_cols = [x for x in df.columns if df[x].dtype != 'object']\n",
    "    \n",
    "    # Extract categorical columns\n",
    "    cat_cols = [x for x in df.columns if x not in num_cols]\n",
    "    \n",
    "    # Print the extracted columns\n",
    "    print(f'**Numerical Columns:**\\n', num_cols)\n",
    "    print(f'**Categorical Columns:**\\n', cat_cols)\n",
    "    \n",
    "    # Return the extracted columns\n",
    "    return num_cols, cat_cols"
   ]
  },
  {
   "cell_type": "code",
   "execution_count": 24,
   "id": "ea6a9e73-cf78-4a34-8932-9b165460174e",
   "metadata": {},
   "outputs": [
    {
     "name": "stdout",
     "output_type": "stream",
     "text": [
      "**Numerical Columns:**\n",
      " ['age', 'hypertension', 'heart_disease', 'bmi', 'HbA1c_level', 'blood_glucose_level', 'diabetes']\n",
      "**Categorical Columns:**\n",
      " ['gender', 'smoking_history']\n"
     ]
    }
   ],
   "source": [
    "num_cols, cat_cols = get_num_cat_cols(df)"
   ]
  },
  {
   "cell_type": "markdown",
   "id": "3331052e-5a0c-4556-a8ce-5f06a6a4c3b9",
   "metadata": {},
   "source": [
    "Inference\n",
    "\n",
    "\n",
    "Based on the data analysis, we infer that:\n",
    "\n",
    "\n",
    "- Columns with values between 0 and 1 are considered nominal categorical variables.\n",
    "- These columns will be added to the list of categorical columns (cat_cols).\n"
   ]
  },
  {
   "cell_type": "code",
   "execution_count": 27,
   "id": "c3aaa0b7-eada-4d91-ac89-94e59e94b9dd",
   "metadata": {},
   "outputs": [
    {
     "name": "stdout",
     "output_type": "stream",
     "text": [
      "**Updated Categorical Columns:**\n",
      " ['gender', 'smoking_history', 'hypertension', 'heart_disease', 'diabetes']\n",
      "**Updated Numerical Columns:**\n",
      " ['age', 'bmi', 'HbA1c_level', 'blood_glucose_level']\n"
     ]
    }
   ],
   "source": [
    "# Move binary variables to categorical variables\n",
    "cat_cols.extend(['hypertension', 'heart_disease', 'diabetes'])\n",
    "print(\"**Updated Categorical Columns:**\\n\", cat_cols)\n",
    "\n",
    "# Update numerical columns by removing binary variables\n",
    "num_cols = [x for x in num_cols if x not in cat_cols]\n",
    "print(\"**Updated Numerical Columns:**\\n\", num_cols)"
   ]
  },
  {
   "cell_type": "markdown",
   "id": "0fdb64b5-4495-40ca-b920-feb2c216d37f",
   "metadata": {},
   "source": [
    "Inference\n",
    "\n",
    "\n",
    "Based on the updated column classification, we can infer that:\n",
    "\n",
    "\n",
    "- We have a total of 5 categorical columns, which are:\n",
    "    - hypertension\n",
    "    - heart_disease\n",
    "    - diabetes\n",
    "    - (and 2 other categorical columns)\n",
    "- We have a total of 4 numerical columns, which contain continuous or quantitative data.\n",
    "\n",
    "This inference provides a clear understanding of the dataset's structure and column characteristics."
   ]
  },
  {
   "cell_type": "code",
   "execution_count": 30,
   "id": "7bd61130-db77-47cd-aab4-e31f92aad568",
   "metadata": {},
   "outputs": [
    {
     "name": "stdout",
     "output_type": "stream",
     "text": [
      "----------------------------------------------------------------------------------------------------\n",
      "**Column Name:** gender\n",
      "----------------------------------------------------------------------------------------------------\n",
      "gender\n",
      "Female    58552\n",
      "Male      41430\n",
      "Other        18\n",
      "Name: count, dtype: int64\n",
      "----------------------------------------------------------------------------------------------------\n",
      "**Column Name:** smoking_history\n",
      "----------------------------------------------------------------------------------------------------\n",
      "smoking_history\n",
      "No Info        35816\n",
      "never          35095\n",
      "former          9352\n",
      "current         9286\n",
      "not current     6447\n",
      "ever            4004\n",
      "Name: count, dtype: int64\n",
      "----------------------------------------------------------------------------------------------------\n",
      "**Column Name:** hypertension\n",
      "----------------------------------------------------------------------------------------------------\n",
      "hypertension\n",
      "0    92515\n",
      "1     7485\n",
      "Name: count, dtype: int64\n",
      "----------------------------------------------------------------------------------------------------\n",
      "**Column Name:** heart_disease\n",
      "----------------------------------------------------------------------------------------------------\n",
      "heart_disease\n",
      "0    96058\n",
      "1     3942\n",
      "Name: count, dtype: int64\n",
      "----------------------------------------------------------------------------------------------------\n",
      "**Column Name:** diabetes\n",
      "----------------------------------------------------------------------------------------------------\n",
      "diabetes\n",
      "0    91500\n",
      "1     8500\n",
      "Name: count, dtype: int64\n"
     ]
    }
   ],
   "source": [
    "# Define a function to detect special characters in categorical columns\n",
    "def detect_special_chars(cat_cols, df):\n",
    "    \"\"\"\n",
    "    This function takes a list of categorical columns and a DataFrame as input.\n",
    "    It prints the value counts for each categorical column, highlighting any special characters.\n",
    "    \"\"\"\n",
    "    for c in cat_cols:\n",
    "        print('-'*100)\n",
    "        print(f'**Column Name:** {c}')\n",
    "        print('-'*100)\n",
    "        print(df[c].value_counts())\n",
    "\n",
    "# Call the function\n",
    "detect_special_chars(cat_cols, df)"
   ]
  },
  {
   "cell_type": "markdown",
   "id": "9ac80f52-cd0a-4a5b-bd79-709ca80934e4",
   "metadata": {},
   "source": [
    "Analysis Result\n",
    "\n",
    "\n",
    "After conducting the analysis, we found that:\n",
    "\n",
    "\n",
    "- No special characters were detected in any of the categorical columns.\n",
    "- No columns need to be removed from our DataFrame.\n",
    "\n",
    "Our DataFrame is now clean and ready for further analysis and modeling."
   ]
  },
  {
   "cell_type": "code",
   "execution_count": 33,
   "id": "1b8b8e60-ad9e-4b92-90e0-00c083f58cab",
   "metadata": {},
   "outputs": [
    {
     "data": {
      "text/html": [
       "<div>\n",
       "<style scoped>\n",
       "    .dataframe tbody tr th:only-of-type {\n",
       "        vertical-align: middle;\n",
       "    }\n",
       "\n",
       "    .dataframe tbody tr th {\n",
       "        vertical-align: top;\n",
       "    }\n",
       "\n",
       "    .dataframe thead th {\n",
       "        text-align: right;\n",
       "    }\n",
       "</style>\n",
       "<table border=\"1\" class=\"dataframe\">\n",
       "  <thead>\n",
       "    <tr style=\"text-align: right;\">\n",
       "      <th></th>\n",
       "      <th>age</th>\n",
       "      <th>bmi</th>\n",
       "      <th>HbA1c_level</th>\n",
       "      <th>blood_glucose_level</th>\n",
       "    </tr>\n",
       "  </thead>\n",
       "  <tbody>\n",
       "    <tr>\n",
       "      <th>count</th>\n",
       "      <td>100000.00</td>\n",
       "      <td>100000.00</td>\n",
       "      <td>100000.00</td>\n",
       "      <td>100000.00</td>\n",
       "    </tr>\n",
       "    <tr>\n",
       "      <th>mean</th>\n",
       "      <td>41.89</td>\n",
       "      <td>27.32</td>\n",
       "      <td>5.53</td>\n",
       "      <td>138.06</td>\n",
       "    </tr>\n",
       "    <tr>\n",
       "      <th>std</th>\n",
       "      <td>22.52</td>\n",
       "      <td>6.64</td>\n",
       "      <td>1.07</td>\n",
       "      <td>40.71</td>\n",
       "    </tr>\n",
       "    <tr>\n",
       "      <th>min</th>\n",
       "      <td>0.08</td>\n",
       "      <td>10.01</td>\n",
       "      <td>3.50</td>\n",
       "      <td>80.00</td>\n",
       "    </tr>\n",
       "    <tr>\n",
       "      <th>25%</th>\n",
       "      <td>24.00</td>\n",
       "      <td>23.63</td>\n",
       "      <td>4.80</td>\n",
       "      <td>100.00</td>\n",
       "    </tr>\n",
       "    <tr>\n",
       "      <th>50%</th>\n",
       "      <td>43.00</td>\n",
       "      <td>27.32</td>\n",
       "      <td>5.80</td>\n",
       "      <td>140.00</td>\n",
       "    </tr>\n",
       "    <tr>\n",
       "      <th>75%</th>\n",
       "      <td>60.00</td>\n",
       "      <td>29.58</td>\n",
       "      <td>6.20</td>\n",
       "      <td>159.00</td>\n",
       "    </tr>\n",
       "    <tr>\n",
       "      <th>max</th>\n",
       "      <td>80.00</td>\n",
       "      <td>95.69</td>\n",
       "      <td>9.00</td>\n",
       "      <td>300.00</td>\n",
       "    </tr>\n",
       "  </tbody>\n",
       "</table>\n",
       "</div>"
      ],
      "text/plain": [
       "             age        bmi  HbA1c_level  blood_glucose_level\n",
       "count  100000.00  100000.00    100000.00            100000.00\n",
       "mean       41.89      27.32         5.53               138.06\n",
       "std        22.52       6.64         1.07                40.71\n",
       "min         0.08      10.01         3.50                80.00\n",
       "25%        24.00      23.63         4.80               100.00\n",
       "50%        43.00      27.32         5.80               140.00\n",
       "75%        60.00      29.58         6.20               159.00\n",
       "max        80.00      95.69         9.00               300.00"
      ]
     },
     "execution_count": 33,
     "metadata": {},
     "output_type": "execute_result"
    }
   ],
   "source": [
    "# Analisis descriptivo\n",
    "df[num_cols].describe().round(2)"
   ]
  },
  {
   "cell_type": "markdown",
   "id": "babdca10-e842-4cf4-8907-d060d7e34e4e",
   "metadata": {},
   "source": [
    "Inferences from the Data\n",
    "\n",
    "\n",
    "Based on the analysis, we can make the following inferences:\n",
    "\n",
    "\n",
    "Age\n",
    "\n",
    "\n",
    "- The average age is 41.89 years, with a median of 43 years.\n",
    "- The age distribution is relatively balanced in the dataset.\n",
    "\n",
    "Hypertension and Heart Disease\n",
    "\n",
    "\n",
    "- Most individuals do not have hypertension or heart disease.\n",
    "- The values for both columns are low.\n",
    "\n",
    "Body Mass Index (BMI)\n",
    "\n",
    "\n",
    "- The average BMI is 27.32, indicating a tendency towards overweight.\n",
    "\n",
    "HbA1c Level and Blood Glucose Level\n",
    "\n",
    "\n",
    "- The average values for both indicators are within normal ranges.\n",
    "\n",
    "Diabetes\n",
    "\n",
    "\n",
    "- Approximately 8% of individuals have diabetes in the dataset.\n",
    "- Around 92% do not have diabetes.\n",
    "\n",
    "These inferences provide valuable insights into the characteristics of the dataset and can inform further analysis and modeling."
   ]
  },
  {
   "cell_type": "code",
   "execution_count": 38,
   "id": "d8f1b7e1-c127-493b-addf-7ad11de5e58c",
   "metadata": {},
   "outputs": [
    {
     "data": {
      "text/plain": [
       "gender                 0\n",
       "age                    0\n",
       "hypertension           0\n",
       "heart_disease          0\n",
       "smoking_history        0\n",
       "bmi                    0\n",
       "HbA1c_level            0\n",
       "blood_glucose_level    0\n",
       "diabetes               0\n",
       "dtype: int64"
      ]
     },
     "execution_count": 38,
     "metadata": {},
     "output_type": "execute_result"
    }
   ],
   "source": [
    "#No hay valores nulos\n",
    "df.isna().sum()"
   ]
  },
  {
   "cell_type": "code",
   "execution_count": 40,
   "id": "ebe6aa25-d5c4-4f79-beb9-34f009116d6b",
   "metadata": {},
   "outputs": [
    {
     "data": {
      "text/plain": [
       "<Axes: xlabel='diabetes', ylabel='age'>"
      ]
     },
     "execution_count": 40,
     "metadata": {},
     "output_type": "execute_result"
    },
    {
     "data": {
      "image/png": "[encoded data removed]",
      "text/plain": [
       "<Figure size 640x480 with 1 Axes>"
      ]
     },
     "metadata": {},
     "output_type": "display_data"
    }
   ],
   "source": [
    "# Columna - age\n",
    "sns.boxplot(x = df['diabetes'], y = df['age'])"
   ]
  },
  {
   "cell_type": "code",
   "execution_count": 42,
   "id": "1997997d-518e-40fe-8b3b-e8a5a4d7089b",
   "metadata": {},
   "outputs": [
    {
     "data": {
      "text/plain": [
       "<Axes: xlabel='age', ylabel='Count'>"
      ]
     },
     "execution_count": 42,
     "metadata": {},
     "output_type": "execute_result"
    },
    {
     "data": {
      "image/png": "[encoded data removed]",
      "text/plain": [
       "<Figure size 640x480 with 1 Axes>"
      ]
     },
     "metadata": {},
     "output_type": "display_data"
    }
   ],
   "source": [
    "sns.histplot(x = df['age'], hue = df['diabetes'])"
   ]
  },
  {
   "cell_type": "markdown",
   "id": "2f2effde-9a17-4ab9-8fb5-f09ad11c4616",
   "metadata": {},
   "source": [
    "Inference: Age and Diabetes\n",
    "\n",
    "\n",
    "Based on the analysis, we can make the following inference:\n",
    "\n",
    "\n",
    "Age and Diabetes Relationship\n",
    "- The average age of individuals with diabetes is higher than those without diabetes.\n",
    "- The age range of individuals with diabetes is also wider than those without diabetes.\n"
   ]
  },
  {
   "cell_type": "code",
   "execution_count": 45,
   "id": "4a19c8a0-838d-469b-8db3-a48efb0b3959",
   "metadata": {},
   "outputs": [
    {
     "data": {
      "text/plain": [
       "<Axes: xlabel='diabetes', ylabel='bmi'>"
      ]
     },
     "execution_count": 45,
     "metadata": {},
     "output_type": "execute_result"
    },
    {
     "data": {
      "image/png": "[encoded data removed]",
      "text/plain": [
       "<Figure size 640x480 with 1 Axes>"
      ]
     },
     "metadata": {},
     "output_type": "display_data"
    }
   ],
   "source": [
    "# Columna - bmi\n",
    "sns.boxplot(x = df['diabetes'], y = df['bmi'])"
   ]
  },
  {
   "cell_type": "code",
   "execution_count": 47,
   "id": "5513b713-7e21-4614-9fb2-14f17cbd2960",
   "metadata": {},
   "outputs": [
    {
     "data": {
      "text/plain": [
       "<Axes: xlabel='bmi', ylabel='Count'>"
      ]
     },
     "execution_count": 47,
     "metadata": {},
     "output_type": "execute_result"
    },
    {
     "data": {
      "image/png": "[encoded data removed]",
      "text/plain": [
       "<Figure size 640x480 with 1 Axes>"
      ]
     },
     "metadata": {},
     "output_type": "display_data"
    }
   ],
   "source": [
    "sns.histplot(x = df['bmi'], hue = df['diabetes'])"
   ]
  },
  {
   "cell_type": "markdown",
   "id": "1a23ae43-1c2e-4620-a46b-9db20038e51f",
   "metadata": {},
   "source": [
    "Inference: BMI and Diabetes\n",
    "\n",
    "\n",
    "Based on the analysis, we can make the following inference:\n",
    "\n",
    "\n",
    "BMI and Diabetes Relationship\n",
    "\n",
    "\n",
    "- The average BMI of individuals with diabetes is similar to those without diabetes.\n",
    "- However, the BMI range of individuals with diabetes is wider than those without diabetes.\n"
   ]
  },
  {
   "cell_type": "code",
   "execution_count": 50,
   "id": "cbd3266e-d545-4538-9d13-b5da2c8536aa",
   "metadata": {},
   "outputs": [
    {
     "data": {
      "text/plain": [
       "<Axes: xlabel='diabetes', ylabel='HbA1c_level'>"
      ]
     },
     "execution_count": 50,
     "metadata": {},
     "output_type": "execute_result"
    },
    {
     "data": {
      "image/png": "[encoded data removed]",
      "text/plain": [
       "<Figure size 640x480 with 1 Axes>"
      ]
     },
     "metadata": {},
     "output_type": "display_data"
    }
   ],
   "source": [
    "# Columna - HbA1c_level\n",
    "sns.boxplot(x = df['diabetes'], y = df['HbA1c_level'])"
   ]
  },
  {
   "cell_type": "markdown",
   "id": "7b88bf08-988c-4bf3-813f-35515c2a37f2",
   "metadata": {},
   "source": [
    "Inference: HbA1c Level and Diabetes\n",
    "\n",
    "\n",
    "Based on the analysis, we can make the following inference:\n",
    "\n",
    "\n",
    "HbA1c Level and Diabetes Relationship\n",
    "\n",
    "\n",
    "- The average HbA1c level of individuals with diabetes is significantly higher than those without diabetes.\n",
    "- The range of HbA1c levels for individuals with diabetes is also wider than those without diabetes."
   ]
  },
  {
   "cell_type": "code",
   "execution_count": 53,
   "id": "7c4212a3-5376-44f0-8f9f-50501bd8343c",
   "metadata": {},
   "outputs": [
    {
     "data": {
      "text/plain": [
       "<Axes: xlabel='HbA1c_level', ylabel='Count'>"
      ]
     },
     "execution_count": 53,
     "metadata": {},
     "output_type": "execute_result"
    },
    {
     "data": {
      "image/png": "[encoded data removed]",
      "text/plain": [
       "<Figure size 640x480 with 1 Axes>"
      ]
     },
     "metadata": {},
     "output_type": "display_data"
    }
   ],
   "source": [
    "sns.histplot(x = df['HbA1c_level'], hue = df['diabetes'])"
   ]
  },
  {
   "cell_type": "markdown",
   "id": "83e6affe-42ef-4684-83e9-67a8acb0cd12",
   "metadata": {},
   "source": [
    "Inference: HbA1c Level in Individuals with Diabetes\n",
    "\n",
    "\n",
    "Based on the analysis, we can make the following inference:\n",
    "\n",
    "\n",
    "HbA1c Level in Diabetes Cases\n",
    "\n",
    "\n",
    "- In all cases, individuals with diabetes have an HbA1c level above 5."
   ]
  },
  {
   "cell_type": "code",
   "execution_count": 56,
   "id": "65ba3459-cb10-423a-a94f-0b8160e28a01",
   "metadata": {},
   "outputs": [
    {
     "data": {
      "text/plain": [
       "<Axes: xlabel='diabetes', ylabel='blood_glucose_level'>"
      ]
     },
     "execution_count": 56,
     "metadata": {},
     "output_type": "execute_result"
    },
    {
     "data": {
      "image/png": "[encoded data removed]",
      "text/plain": [
       "<Figure size 640x480 with 1 Axes>"
      ]
     },
     "metadata": {},
     "output_type": "display_data"
    }
   ],
   "source": [
    "# Columna - blood_glucose_level\n",
    "sns.boxplot(x = df['diabetes'], y = df['blood_glucose_level'])"
   ]
  },
  {
   "cell_type": "markdown",
   "id": "6b0eea6d-39a0-4d5e-b0da-822b0f53952d",
   "metadata": {},
   "source": [
    "Inference: HbA1c Level and Diabetes Relationship\n",
    "\n",
    "\n",
    "Based on the analysis, we can make the following inference:\n",
    "\n",
    "\n",
    "- The average HbA1c level of individuals with diabetes is significantly higher than those without diabetes.\n",
    "- The range of HbA1c levels for individuals with diabetes is wider than those without diabetes.\n"
   ]
  },
  {
   "cell_type": "code",
   "execution_count": 61,
   "id": "e07be885-9f51-4d90-a2ca-1a85f2f8fedb",
   "metadata": {},
   "outputs": [
    {
     "data": {
      "text/plain": [
       "<Axes: xlabel='blood_glucose_level', ylabel='Count'>"
      ]
     },
     "execution_count": 61,
     "metadata": {},
     "output_type": "execute_result"
    },
    {
     "data": {
      "image/png": "[encoded data removed]",
      "text/plain": [
       "<Figure size 640x480 with 1 Axes>"
      ]
     },
     "metadata": {},
     "output_type": "display_data"
    }
   ],
   "source": [
    "sns.histplot(x = df['blood_glucose_level'], hue = df['diabetes'])"
   ]
  },
  {
   "cell_type": "code",
   "execution_count": 63,
   "id": "7b2c5c95-d96b-4ed9-8f0f-dabf80a393a6",
   "metadata": {},
   "outputs": [],
   "source": [
    "# Función para realizar una prueba de chi-cuadrado entre una característica categórica y la característica objetivo.\n",
    "def chi_sq_test(ct):\n",
    "    # input crosstab of 2 categorical variables\n",
    "    stat, p, dof, expected = chi2_contingency(ct)\n",
    "\n",
    "    # interpret p-value\n",
    "    alpha = 0.05\n",
    "    print(\"p value is \" + str(p))\n",
    "    if p <= alpha:\n",
    "        print('Both variables are Dependent (reject H0)')\n",
    "    else:\n",
    "        print('Both variables are Independent (H0 holds true)')"
   ]
  },
  {
   "cell_type": "code",
   "execution_count": 65,
   "id": "253c5525-1692-4200-85f1-66eec1d4d619",
   "metadata": {},
   "outputs": [],
   "source": [
    "# Función para trazar un gráfico de barras apiladas entre una característica categórica y la variable objetivo, que también nos ayuda a identificar la variable dependiente utilizando la función chi-cuadrado. Este paso es la selección de características.\n",
    "def cat_col_test(df, cat_colname, target_colname):\n",
    "    \n",
    "    print(f\"Column name - {cat_colname}\")\n",
    "    ct = pd.crosstab(df[cat_colname],df[target_colname])\n",
    "    chi_sq_test(ct)\n",
    "    ax = ct.plot(kind='bar',stacked=True, rot = 45)\n",
    "    ax.legend(title='mark', bbox_to_anchor=(1, 1.02), loc='upper left')\n",
    "\n",
    "    for c in ax.containers:\n",
    "        ax.bar_label(c, label_type='center')\n",
    "    plt.show()"
   ]
  },
  {
   "cell_type": "code",
   "execution_count": 67,
   "id": "27f9e86a-ec07-4081-bdb6-619adf5bc826",
   "metadata": {},
   "outputs": [
    {
     "name": "stdout",
     "output_type": "stream",
     "text": [
      "Column name - gender\n",
      "p value is 7.953383718307459e-32\n",
      "Both variables are Dependent (reject H0)\n"
     ]
    },
    {
     "data": {
      "image/png": "[encoded data removed]",
      "text/plain": [
       "<Figure size 640x480 with 1 Axes>"
      ]
     },
     "metadata": {},
     "output_type": "display_data"
    },
    {
     "name": "stdout",
     "output_type": "stream",
     "text": [
      "Column name - smoking_history\n",
      "p value is 0.0\n",
      "Both variables are Dependent (reject H0)\n"
     ]
    },
    {
     "data": {
      "image/png": "[encoded data removed]",
      "text/plain": [
       "<Figure size 640x480 with 1 Axes>"
      ]
     },
     "metadata": {},
     "output_type": "display_data"
    },
    {
     "name": "stdout",
     "output_type": "stream",
     "text": [
      "Column name - hypertension\n",
      "p value is 0.0\n",
      "Both variables are Dependent (reject H0)\n"
     ]
    },
    {
     "data": {
      "image/png": "[encoded data removed]",
      "text/plain": [
       "<Figure size 640x480 with 1 Axes>"
      ]
     },
     "metadata": {},
     "output_type": "display_data"
    },
    {
     "name": "stdout",
     "output_type": "stream",
     "text": [
      "Column name - heart_disease\n",
      "p value is 0.0\n",
      "Both variables are Dependent (reject H0)\n"
     ]
    },
    {
     "data": {
      "image/png": "[encoded data removed]",
      "text/plain": [
       "<Figure size 640x480 with 1 Axes>"
      ]
     },
     "metadata": {},
     "output_type": "display_data"
    },
    {
     "name": "stdout",
     "output_type": "stream",
     "text": [
      "Column name - diabetes\n",
      "p value is 0.0\n",
      "Both variables are Dependent (reject H0)\n"
     ]
    },
    {
     "data": {
      "image/png": "[encoded data removed]",
      "text/plain": [
       "<Figure size 640x480 with 1 Axes>"
      ]
     },
     "metadata": {},
     "output_type": "display_data"
    }
   ],
   "source": [
    "for c in cat_cols:\n",
    "    cat_col_test(df, c, 'diabetes')"
   ]
  },
  {
   "cell_type": "markdown",
   "id": "e3b259fa-0f6e-45d0-b14e-10ae991ae4cf",
   "metadata": {},
   "source": [
    "Inference\n",
    "\n",
    "\n",
    "It is concluded that all the reviewed variables are dependent on the target variable, indicating a significant relationship between them. Therefore, the null hypothesis (H0) is rejected.\n"
   ]
  },
  {
   "cell_type": "code",
   "execution_count": 70,
   "id": "f60fdba4-ff68-4e4e-92a6-817eedc8dc39",
   "metadata": {},
   "outputs": [],
   "source": [
    "bins = [0, 29, 60, df['age'].max()]\n",
    "labels = ['young', 'adult', 'elderly']\n",
    "df['age_group'] = pd.cut(df['age'], bins=bins, labels=labels)"
   ]
  },
  {
   "cell_type": "code",
   "execution_count": 72,
   "id": "e43cf796-f3df-43c4-b47f-0e82911c0edb",
   "metadata": {},
   "outputs": [
    {
     "data": {
      "text/html": [
       "<div>\n",
       "<style scoped>\n",
       "    .dataframe tbody tr th:only-of-type {\n",
       "        vertical-align: middle;\n",
       "    }\n",
       "\n",
       "    .dataframe tbody tr th {\n",
       "        vertical-align: top;\n",
       "    }\n",
       "\n",
       "    .dataframe thead th {\n",
       "        text-align: right;\n",
       "    }\n",
       "</style>\n",
       "<table border=\"1\" class=\"dataframe\">\n",
       "  <thead>\n",
       "    <tr style=\"text-align: right;\">\n",
       "      <th></th>\n",
       "      <th>gender</th>\n",
       "      <th>age</th>\n",
       "      <th>hypertension</th>\n",
       "      <th>heart_disease</th>\n",
       "      <th>smoking_history</th>\n",
       "      <th>bmi</th>\n",
       "      <th>HbA1c_level</th>\n",
       "      <th>blood_glucose_level</th>\n",
       "      <th>diabetes</th>\n",
       "      <th>age_group</th>\n",
       "    </tr>\n",
       "  </thead>\n",
       "  <tbody>\n",
       "    <tr>\n",
       "      <th>0</th>\n",
       "      <td>Female</td>\n",
       "      <td>80.0</td>\n",
       "      <td>0</td>\n",
       "      <td>1</td>\n",
       "      <td>never</td>\n",
       "      <td>25.19</td>\n",
       "      <td>6.6</td>\n",
       "      <td>140</td>\n",
       "      <td>0</td>\n",
       "      <td>elderly</td>\n",
       "    </tr>\n",
       "    <tr>\n",
       "      <th>1</th>\n",
       "      <td>Female</td>\n",
       "      <td>54.0</td>\n",
       "      <td>0</td>\n",
       "      <td>0</td>\n",
       "      <td>No Info</td>\n",
       "      <td>27.32</td>\n",
       "      <td>6.6</td>\n",
       "      <td>80</td>\n",
       "      <td>0</td>\n",
       "      <td>adult</td>\n",
       "    </tr>\n",
       "    <tr>\n",
       "      <th>2</th>\n",
       "      <td>Male</td>\n",
       "      <td>28.0</td>\n",
       "      <td>0</td>\n",
       "      <td>0</td>\n",
       "      <td>never</td>\n",
       "      <td>27.32</td>\n",
       "      <td>5.7</td>\n",
       "      <td>158</td>\n",
       "      <td>0</td>\n",
       "      <td>young</td>\n",
       "    </tr>\n",
       "    <tr>\n",
       "      <th>3</th>\n",
       "      <td>Female</td>\n",
       "      <td>36.0</td>\n",
       "      <td>0</td>\n",
       "      <td>0</td>\n",
       "      <td>current</td>\n",
       "      <td>23.45</td>\n",
       "      <td>5.0</td>\n",
       "      <td>155</td>\n",
       "      <td>0</td>\n",
       "      <td>adult</td>\n",
       "    </tr>\n",
       "    <tr>\n",
       "      <th>4</th>\n",
       "      <td>Male</td>\n",
       "      <td>76.0</td>\n",
       "      <td>1</td>\n",
       "      <td>1</td>\n",
       "      <td>current</td>\n",
       "      <td>20.14</td>\n",
       "      <td>4.8</td>\n",
       "      <td>155</td>\n",
       "      <td>0</td>\n",
       "      <td>elderly</td>\n",
       "    </tr>\n",
       "  </tbody>\n",
       "</table>\n",
       "</div>"
      ],
      "text/plain": [
       "   gender   age  hypertension  heart_disease smoking_history    bmi  \\\n",
       "0  Female  80.0             0              1           never  25.19   \n",
       "1  Female  54.0             0              0         No Info  27.32   \n",
       "2    Male  28.0             0              0           never  27.32   \n",
       "3  Female  36.0             0              0         current  23.45   \n",
       "4    Male  76.0             1              1         current  20.14   \n",
       "\n",
       "   HbA1c_level  blood_glucose_level  diabetes age_group  \n",
       "0          6.6                  140         0   elderly  \n",
       "1          6.6                   80         0     adult  \n",
       "2          5.7                  158         0     young  \n",
       "3          5.0                  155         0     adult  \n",
       "4          4.8                  155         0   elderly  "
      ]
     },
     "execution_count": 72,
     "metadata": {},
     "output_type": "execute_result"
    }
   ],
   "source": [
    "df.head()"
   ]
  },
  {
   "cell_type": "code",
   "execution_count": 74,
   "id": "c6a13f98-5b94-41ae-be7b-94fa4b011c70",
   "metadata": {},
   "outputs": [
    {
     "data": {
      "text/plain": [
       "<Figure size 800x600 with 0 Axes>"
      ]
     },
     "metadata": {},
     "output_type": "display_data"
    },
    {
     "data": {
      "image/png": "[encoded data removed]",
      "text/plain": [
       "<Figure size 640x480 with 1 Axes>"
      ]
     },
     "metadata": {},
     "output_type": "display_data"
    }
   ],
   "source": [
    "# Create a bar chart showing the relationship between age group and diabetes\n",
    "plt.figure(figsize=(8, 6))\n",
    "df.groupby(['age_group', 'diabetes']).size().unstack().plot(kind='bar', stacked=True)\n",
    "plt.xlabel('Age Group')\n",
    "plt.ylabel('Number of People')\n",
    "plt.title('Relationship between Age Group and Diabetes')\n",
    "plt.legend(title='Diabetes', labels=['No Diabetes', 'Diabetes'])\n",
    "plt.show()"
   ]
  },
  {
   "cell_type": "markdown",
   "id": "79f79656-f8cc-4f17-b150-ce0643084fed",
   "metadata": {},
   "source": [
    "Inference\n",
    "\n",
    "\n",
    "There is a higher number of people with diabetes in the adult and elderly age groups compared to the young age group."
   ]
  },
  {
   "cell_type": "code",
   "execution_count": 77,
   "id": "40c2bd28-0349-4e60-ad79-09ce855a4176",
   "metadata": {},
   "outputs": [],
   "source": [
    "#Transform our categorical columns\n",
    "categorical_columns = [\"gender\", \"smoking_history\", \"age_group\"]\n",
    "#Apply one-hot encoding to the categorical columns\n",
    "df_dummies = pd.get_dummies(df, columns=categorical_columns)\n"
   ]
  },
  {
   "cell_type": "code",
   "execution_count": 79,
   "id": "1f218be1-d19d-4049-930b-7cc393b818db",
   "metadata": {},
   "outputs": [
    {
     "data": {
      "text/html": [
       "<div>\n",
       "<style scoped>\n",
       "    .dataframe tbody tr th:only-of-type {\n",
       "        vertical-align: middle;\n",
       "    }\n",
       "\n",
       "    .dataframe tbody tr th {\n",
       "        vertical-align: top;\n",
       "    }\n",
       "\n",
       "    .dataframe thead th {\n",
       "        text-align: right;\n",
       "    }\n",
       "</style>\n",
       "<table border=\"1\" class=\"dataframe\">\n",
       "  <thead>\n",
       "    <tr style=\"text-align: right;\">\n",
       "      <th></th>\n",
       "      <th>age</th>\n",
       "      <th>hypertension</th>\n",
       "      <th>heart_disease</th>\n",
       "      <th>bmi</th>\n",
       "      <th>HbA1c_level</th>\n",
       "      <th>blood_glucose_level</th>\n",
       "      <th>diabetes</th>\n",
       "      <th>gender_Female</th>\n",
       "      <th>gender_Male</th>\n",
       "      <th>gender_Other</th>\n",
       "      <th>smoking_history_No Info</th>\n",
       "      <th>smoking_history_current</th>\n",
       "      <th>smoking_history_ever</th>\n",
       "      <th>smoking_history_former</th>\n",
       "      <th>smoking_history_never</th>\n",
       "      <th>smoking_history_not current</th>\n",
       "      <th>age_group_young</th>\n",
       "      <th>age_group_adult</th>\n",
       "      <th>age_group_elderly</th>\n",
       "    </tr>\n",
       "  </thead>\n",
       "  <tbody>\n",
       "    <tr>\n",
       "      <th>0</th>\n",
       "      <td>80.0</td>\n",
       "      <td>0</td>\n",
       "      <td>1</td>\n",
       "      <td>25.19</td>\n",
       "      <td>6.6</td>\n",
       "      <td>140</td>\n",
       "      <td>0</td>\n",
       "      <td>True</td>\n",
       "      <td>False</td>\n",
       "      <td>False</td>\n",
       "      <td>False</td>\n",
       "      <td>False</td>\n",
       "      <td>False</td>\n",
       "      <td>False</td>\n",
       "      <td>True</td>\n",
       "      <td>False</td>\n",
       "      <td>False</td>\n",
       "      <td>False</td>\n",
       "      <td>True</td>\n",
       "    </tr>\n",
       "    <tr>\n",
       "      <th>1</th>\n",
       "      <td>54.0</td>\n",
       "      <td>0</td>\n",
       "      <td>0</td>\n",
       "      <td>27.32</td>\n",
       "      <td>6.6</td>\n",
       "      <td>80</td>\n",
       "      <td>0</td>\n",
       "      <td>True</td>\n",
       "      <td>False</td>\n",
       "      <td>False</td>\n",
       "      <td>True</td>\n",
       "      <td>False</td>\n",
       "      <td>False</td>\n",
       "      <td>False</td>\n",
       "      <td>False</td>\n",
       "      <td>False</td>\n",
       "      <td>False</td>\n",
       "      <td>True</td>\n",
       "      <td>False</td>\n",
       "    </tr>\n",
       "    <tr>\n",
       "      <th>2</th>\n",
       "      <td>28.0</td>\n",
       "      <td>0</td>\n",
       "      <td>0</td>\n",
       "      <td>27.32</td>\n",
       "      <td>5.7</td>\n",
       "      <td>158</td>\n",
       "      <td>0</td>\n",
       "      <td>False</td>\n",
       "      <td>True</td>\n",
       "      <td>False</td>\n",
       "      <td>False</td>\n",
       "      <td>False</td>\n",
       "      <td>False</td>\n",
       "      <td>False</td>\n",
       "      <td>True</td>\n",
       "      <td>False</td>\n",
       "      <td>True</td>\n",
       "      <td>False</td>\n",
       "      <td>False</td>\n",
       "    </tr>\n",
       "    <tr>\n",
       "      <th>3</th>\n",
       "      <td>36.0</td>\n",
       "      <td>0</td>\n",
       "      <td>0</td>\n",
       "      <td>23.45</td>\n",
       "      <td>5.0</td>\n",
       "      <td>155</td>\n",
       "      <td>0</td>\n",
       "      <td>True</td>\n",
       "      <td>False</td>\n",
       "      <td>False</td>\n",
       "      <td>False</td>\n",
       "      <td>True</td>\n",
       "      <td>False</td>\n",
       "      <td>False</td>\n",
       "      <td>False</td>\n",
       "      <td>False</td>\n",
       "      <td>False</td>\n",
       "      <td>True</td>\n",
       "      <td>False</td>\n",
       "    </tr>\n",
       "    <tr>\n",
       "      <th>4</th>\n",
       "      <td>76.0</td>\n",
       "      <td>1</td>\n",
       "      <td>1</td>\n",
       "      <td>20.14</td>\n",
       "      <td>4.8</td>\n",
       "      <td>155</td>\n",
       "      <td>0</td>\n",
       "      <td>False</td>\n",
       "      <td>True</td>\n",
       "      <td>False</td>\n",
       "      <td>False</td>\n",
       "      <td>True</td>\n",
       "      <td>False</td>\n",
       "      <td>False</td>\n",
       "      <td>False</td>\n",
       "      <td>False</td>\n",
       "      <td>False</td>\n",
       "      <td>False</td>\n",
       "      <td>True</td>\n",
       "    </tr>\n",
       "  </tbody>\n",
       "</table>\n",
       "</div>"
      ],
      "text/plain": [
       "    age  hypertension  heart_disease    bmi  HbA1c_level  blood_glucose_level  \\\n",
       "0  80.0             0              1  25.19          6.6                  140   \n",
       "1  54.0             0              0  27.32          6.6                   80   \n",
       "2  28.0             0              0  27.32          5.7                  158   \n",
       "3  36.0             0              0  23.45          5.0                  155   \n",
       "4  76.0             1              1  20.14          4.8                  155   \n",
       "\n",
       "   diabetes  gender_Female  gender_Male  gender_Other  \\\n",
       "0         0           True        False         False   \n",
       "1         0           True        False         False   \n",
       "2         0          False         True         False   \n",
       "3         0           True        False         False   \n",
       "4         0          False         True         False   \n",
       "\n",
       "   smoking_history_No Info  smoking_history_current  smoking_history_ever  \\\n",
       "0                    False                    False                 False   \n",
       "1                     True                    False                 False   \n",
       "2                    False                    False                 False   \n",
       "3                    False                     True                 False   \n",
       "4                    False                     True                 False   \n",
       "\n",
       "   smoking_history_former  smoking_history_never  smoking_history_not current  \\\n",
       "0                   False                   True                        False   \n",
       "1                   False                  False                        False   \n",
       "2                   False                   True                        False   \n",
       "3                   False                  False                        False   \n",
       "4                   False                  False                        False   \n",
       "\n",
       "   age_group_young  age_group_adult  age_group_elderly  \n",
       "0            False            False               True  \n",
       "1            False             True              False  \n",
       "2             True            False              False  \n",
       "3            False             True              False  \n",
       "4            False            False               True  "
      ]
     },
     "execution_count": 79,
     "metadata": {},
     "output_type": "execute_result"
    }
   ],
   "source": [
    "df_dummies.head()"
   ]
  },
  {
   "cell_type": "code",
   "execution_count": 85,
   "id": "b8c99e68-6594-4576-93fb-93787c860b28",
   "metadata": {},
   "outputs": [
    {
     "name": "stdout",
     "output_type": "stream",
     "text": [
      "                                  age  hypertension  heart_disease       bmi  \\\n",
      "age                          1.000000      0.251171       0.233354  0.337396   \n",
      "hypertension                 0.251171      1.000000       0.121262  0.147666   \n",
      "heart_disease                0.233354      0.121262       1.000000  0.061198   \n",
      "bmi                          0.337396      0.147666       0.061198  1.000000   \n",
      "HbA1c_level                  0.101354      0.080939       0.067589  0.082997   \n",
      "blood_glucose_level          0.110672      0.084429       0.070066  0.091261   \n",
      "diabetes                     0.258008      0.197823       0.171727  0.214357   \n",
      "gender_Female                0.030480     -0.014318      -0.077832  0.023016   \n",
      "gender_Male                 -0.030282      0.014423       0.077911 -0.023021   \n",
      "gender_Other                -0.007348     -0.003816      -0.002718  0.000119   \n",
      "smoking_history_No Info     -0.276945     -0.117210      -0.052398 -0.222553   \n",
      "smoking_history_current      0.030946      0.017930       0.007604  0.053617   \n",
      "smoking_history_ever         0.065768      0.023124       0.040671  0.044343   \n",
      "smoking_history_former       0.216481      0.083401       0.095194  0.111312   \n",
      "smoking_history_never        0.065498      0.045953      -0.030843  0.086849   \n",
      "smoking_history_not current  0.067663      0.000997       0.007922  0.034979   \n",
      "age_group_young             -0.811221     -0.188066      -0.138931 -0.362788   \n",
      "age_group_adult              0.140846     -0.004317      -0.075985  0.258893   \n",
      "age_group_elderly            0.729379      0.212284       0.241866  0.097317   \n",
      "\n",
      "                             HbA1c_level  blood_glucose_level  diabetes  \\\n",
      "age                             0.101354             0.110672  0.258008   \n",
      "hypertension                    0.080939             0.084429  0.197823   \n",
      "heart_disease                   0.067589             0.070066  0.171727   \n",
      "bmi                             0.082997             0.091261  0.214357   \n",
      "HbA1c_level                     1.000000             0.166733  0.400660   \n",
      "blood_glucose_level             0.166733             1.000000  0.419558   \n",
      "diabetes                        0.400660             0.419558  1.000000   \n",
      "gender_Female                  -0.020015            -0.017200 -0.037553   \n",
      "gender_Male                     0.020058             0.017189  0.037666   \n",
      "gender_Other                   -0.001528             0.000457 -0.004090   \n",
      "smoking_history_No Info        -0.045979            -0.051635 -0.118939   \n",
      "smoking_history_current         0.006123             0.012447  0.019606   \n",
      "smoking_history_ever            0.009655             0.006267  0.024080   \n",
      "smoking_history_former          0.037306             0.040688  0.097917   \n",
      "smoking_history_never           0.010684             0.012475  0.027267   \n",
      "smoking_history_not current     0.009830             0.008613  0.020734   \n",
      "age_group_young                -0.078138            -0.078913 -0.190189   \n",
      "age_group_adult                -0.002867            -0.010971 -0.016423   \n",
      "age_group_elderly               0.089454             0.099775  0.228764   \n",
      "\n",
      "                             gender_Female  gender_Male  gender_Other  \\\n",
      "age                               0.030480    -0.030282     -0.007348   \n",
      "hypertension                     -0.014318     0.014423     -0.003816   \n",
      "heart_disease                    -0.077832     0.077911     -0.002718   \n",
      "bmi                               0.023016    -0.023021      0.000119   \n",
      "HbA1c_level                      -0.020015     0.020058     -0.001528   \n",
      "blood_glucose_level              -0.017200     0.017189      0.000457   \n",
      "diabetes                         -0.037553     0.037666     -0.004090   \n",
      "gender_Female                     1.000000    -0.999629     -0.015948   \n",
      "gender_Male                      -0.999629     1.000000     -0.011285   \n",
      "gender_Other                     -0.015948    -0.011285      1.000000   \n",
      "smoking_history_No Info          -0.053810     0.053833     -0.000695   \n",
      "smoking_history_current          -0.026517     0.026636     -0.004293   \n",
      "smoking_history_ever             -0.011019     0.010991      0.001062   \n",
      "smoking_history_former           -0.048927     0.049048     -0.004310   \n",
      "smoking_history_never             0.098682    -0.098547     -0.005181   \n",
      "smoking_history_not current       0.011419    -0.011985      0.020760   \n",
      "age_group_young                  -0.028894     0.028672      0.008219   \n",
      "age_group_adult                   0.030976    -0.030941     -0.001364   \n",
      "age_group_elderly                -0.004349     0.004552     -0.007464   \n",
      "\n",
      "                             smoking_history_No Info  smoking_history_current  \\\n",
      "age                                        -0.276945                 0.030946   \n",
      "hypertension                               -0.117210                 0.017930   \n",
      "heart_disease                              -0.052398                 0.007604   \n",
      "bmi                                        -0.222553                 0.053617   \n",
      "HbA1c_level                                -0.045979                 0.006123   \n",
      "blood_glucose_level                        -0.051635                 0.012447   \n",
      "diabetes                                   -0.118939                 0.019606   \n",
      "gender_Female                              -0.053810                -0.026517   \n",
      "gender_Male                                 0.053833                 0.026636   \n",
      "gender_Other                               -0.000695                -0.004293   \n",
      "smoking_history_No Info                     1.000000                -0.239002   \n",
      "smoking_history_current                    -0.239002                 1.000000   \n",
      "smoking_history_ever                       -0.152562                -0.065343   \n",
      "smoking_history_former                     -0.239938                -0.102766   \n",
      "smoking_history_never                      -0.549299                -0.235267   \n",
      "smoking_history_not current                -0.196099                -0.083990   \n",
      "age_group_young                             0.269284                -0.071533   \n",
      "age_group_adult                            -0.175873                 0.115754   \n",
      "age_group_elderly                          -0.091270                -0.056405   \n",
      "\n",
      "                             smoking_history_ever  smoking_history_former  \\\n",
      "age                                      0.065768                0.216481   \n",
      "hypertension                             0.023124                0.083401   \n",
      "heart_disease                            0.040671                0.095194   \n",
      "bmi                                      0.044343                0.111312   \n",
      "HbA1c_level                              0.009655                0.037306   \n",
      "blood_glucose_level                      0.006267                0.040688   \n",
      "diabetes                                 0.024080                0.097917   \n",
      "gender_Female                           -0.011019               -0.048927   \n",
      "gender_Male                              0.010991                0.049048   \n",
      "gender_Other                             0.001062               -0.004310   \n",
      "smoking_history_No Info                 -0.152562               -0.239938   \n",
      "smoking_history_current                 -0.065343               -0.102766   \n",
      "smoking_history_ever                     1.000000               -0.065598   \n",
      "smoking_history_former                  -0.065598                1.000000   \n",
      "smoking_history_never                   -0.150177               -0.236187   \n",
      "smoking_history_not current             -0.053613               -0.084319   \n",
      "age_group_young                         -0.069918               -0.170015   \n",
      "age_group_adult                          0.049426                0.010822   \n",
      "age_group_elderly                        0.019304                0.174705   \n",
      "\n",
      "                             smoking_history_never  \\\n",
      "age                                       0.065498   \n",
      "hypertension                              0.045953   \n",
      "heart_disease                            -0.030843   \n",
      "bmi                                       0.086849   \n",
      "HbA1c_level                               0.010684   \n",
      "blood_glucose_level                       0.012475   \n",
      "diabetes                                  0.027267   \n",
      "gender_Female                             0.098682   \n",
      "gender_Male                              -0.098547   \n",
      "gender_Other                             -0.005181   \n",
      "smoking_history_No Info                  -0.549299   \n",
      "smoking_history_current                  -0.235267   \n",
      "smoking_history_ever                     -0.150177   \n",
      "smoking_history_former                   -0.236187   \n",
      "smoking_history_never                     1.000000   \n",
      "smoking_history_not current              -0.193034   \n",
      "age_group_young                          -0.067050   \n",
      "age_group_adult                           0.073530   \n",
      "age_group_elderly                        -0.012017   \n",
      "\n",
      "                             smoking_history_not current  age_group_young  \\\n",
      "age                                             0.067663        -0.811221   \n",
      "hypertension                                    0.000997        -0.188066   \n",
      "heart_disease                                   0.007922        -0.138931   \n",
      "bmi                                             0.034979        -0.362788   \n",
      "HbA1c_level                                     0.009830        -0.078138   \n",
      "blood_glucose_level                             0.008613        -0.078913   \n",
      "diabetes                                        0.020734        -0.190189   \n",
      "gender_Female                                   0.011419        -0.028894   \n",
      "gender_Male                                    -0.011985         0.028672   \n",
      "gender_Other                                    0.020760         0.008219   \n",
      "smoking_history_No Info                        -0.196099         0.269284   \n",
      "smoking_history_current                        -0.083990        -0.071533   \n",
      "smoking_history_ever                           -0.053613        -0.069918   \n",
      "smoking_history_former                         -0.084319        -0.170015   \n",
      "smoking_history_never                          -0.193034        -0.067050   \n",
      "smoking_history_not current                     1.000000        -0.053501   \n",
      "age_group_young                                -0.053501         1.000000   \n",
      "age_group_adult                                 0.011374        -0.613321   \n",
      "age_group_elderly                               0.045667        -0.385426   \n",
      "\n",
      "                             age_group_adult  age_group_elderly  \n",
      "age                                 0.140846           0.729379  \n",
      "hypertension                       -0.004317           0.212284  \n",
      "heart_disease                      -0.075985           0.241866  \n",
      "bmi                                 0.258893           0.097317  \n",
      "HbA1c_level                        -0.002867           0.089454  \n",
      "blood_glucose_level                -0.010971           0.099775  \n",
      "diabetes                           -0.016423           0.228764  \n",
      "gender_Female                       0.030976          -0.004349  \n",
      "gender_Male                        -0.030941           0.004552  \n",
      "gender_Other                       -0.001364          -0.007464  \n",
      "smoking_history_No Info            -0.175873          -0.091270  \n",
      "smoking_history_current             0.115754          -0.056405  \n",
      "smoking_history_ever                0.049426           0.019304  \n",
      "smoking_history_former              0.010822           0.174705  \n",
      "smoking_history_never               0.073530          -0.012017  \n",
      "smoking_history_not current         0.011374           0.045667  \n",
      "age_group_young                    -0.613321          -0.385426  \n",
      "age_group_adult                     1.000000          -0.492421  \n",
      "age_group_elderly                  -0.492421           1.000000  \n"
     ]
    }
   ],
   "source": [
    "\n",
    "#Calculate the correlation matrix\n",
    "correlation_matrix = df_dummies.corr()\n",
    "\n",
    "#Display the correlation matrix\n",
    "print(correlation_matrix)"
   ]
  },
  {
   "cell_type": "code",
   "execution_count": 87,
   "id": "fde0e457-3037-4691-9229-165958f3d9e7",
   "metadata": {},
   "outputs": [],
   "source": [
    "#Remove the age group columns from the DataFrame df_dummies\n",
    "df_dummies = df_dummies.drop([\"age_group_young\", \"age_group_adult\", \"age_group_elderly\"], axis=1)"
   ]
  },
  {
   "cell_type": "markdown",
   "id": "ae1bd4f4-c4ac-46a8-93fe-0cedebab09ec",
   "metadata": {},
   "source": [
    "Inference: \n",
    "- The age groups are eliminated due to their high correlation with the rest of the variables."
   ]
  },
  {
   "cell_type": "code",
   "execution_count": 92,
   "id": "1d364094-9024-4d13-900c-6defadf78e29",
   "metadata": {},
   "outputs": [
    {
     "data": {
      "text/html": [
       "<div>\n",
       "<style scoped>\n",
       "    .dataframe tbody tr th:only-of-type {\n",
       "        vertical-align: middle;\n",
       "    }\n",
       "\n",
       "    .dataframe tbody tr th {\n",
       "        vertical-align: top;\n",
       "    }\n",
       "\n",
       "    .dataframe thead th {\n",
       "        text-align: right;\n",
       "    }\n",
       "</style>\n",
       "<table border=\"1\" class=\"dataframe\">\n",
       "  <thead>\n",
       "    <tr style=\"text-align: right;\">\n",
       "      <th></th>\n",
       "      <th>age</th>\n",
       "      <th>hypertension</th>\n",
       "      <th>heart_disease</th>\n",
       "      <th>bmi</th>\n",
       "      <th>HbA1c_level</th>\n",
       "      <th>blood_glucose_level</th>\n",
       "      <th>diabetes</th>\n",
       "      <th>gender_Female</th>\n",
       "      <th>gender_Male</th>\n",
       "      <th>gender_Other</th>\n",
       "      <th>smoking_history_No Info</th>\n",
       "      <th>smoking_history_current</th>\n",
       "      <th>smoking_history_ever</th>\n",
       "      <th>smoking_history_former</th>\n",
       "      <th>smoking_history_never</th>\n",
       "      <th>smoking_history_not current</th>\n",
       "    </tr>\n",
       "  </thead>\n",
       "  <tbody>\n",
       "    <tr>\n",
       "      <th>0</th>\n",
       "      <td>80.0</td>\n",
       "      <td>0</td>\n",
       "      <td>1</td>\n",
       "      <td>25.19</td>\n",
       "      <td>6.6</td>\n",
       "      <td>140</td>\n",
       "      <td>0</td>\n",
       "      <td>True</td>\n",
       "      <td>False</td>\n",
       "      <td>False</td>\n",
       "      <td>False</td>\n",
       "      <td>False</td>\n",
       "      <td>False</td>\n",
       "      <td>False</td>\n",
       "      <td>True</td>\n",
       "      <td>False</td>\n",
       "    </tr>\n",
       "    <tr>\n",
       "      <th>1</th>\n",
       "      <td>54.0</td>\n",
       "      <td>0</td>\n",
       "      <td>0</td>\n",
       "      <td>27.32</td>\n",
       "      <td>6.6</td>\n",
       "      <td>80</td>\n",
       "      <td>0</td>\n",
       "      <td>True</td>\n",
       "      <td>False</td>\n",
       "      <td>False</td>\n",
       "      <td>True</td>\n",
       "      <td>False</td>\n",
       "      <td>False</td>\n",
       "      <td>False</td>\n",
       "      <td>False</td>\n",
       "      <td>False</td>\n",
       "    </tr>\n",
       "    <tr>\n",
       "      <th>2</th>\n",
       "      <td>28.0</td>\n",
       "      <td>0</td>\n",
       "      <td>0</td>\n",
       "      <td>27.32</td>\n",
       "      <td>5.7</td>\n",
       "      <td>158</td>\n",
       "      <td>0</td>\n",
       "      <td>False</td>\n",
       "      <td>True</td>\n",
       "      <td>False</td>\n",
       "      <td>False</td>\n",
       "      <td>False</td>\n",
       "      <td>False</td>\n",
       "      <td>False</td>\n",
       "      <td>True</td>\n",
       "      <td>False</td>\n",
       "    </tr>\n",
       "    <tr>\n",
       "      <th>3</th>\n",
       "      <td>36.0</td>\n",
       "      <td>0</td>\n",
       "      <td>0</td>\n",
       "      <td>23.45</td>\n",
       "      <td>5.0</td>\n",
       "      <td>155</td>\n",
       "      <td>0</td>\n",
       "      <td>True</td>\n",
       "      <td>False</td>\n",
       "      <td>False</td>\n",
       "      <td>False</td>\n",
       "      <td>True</td>\n",
       "      <td>False</td>\n",
       "      <td>False</td>\n",
       "      <td>False</td>\n",
       "      <td>False</td>\n",
       "    </tr>\n",
       "    <tr>\n",
       "      <th>4</th>\n",
       "      <td>76.0</td>\n",
       "      <td>1</td>\n",
       "      <td>1</td>\n",
       "      <td>20.14</td>\n",
       "      <td>4.8</td>\n",
       "      <td>155</td>\n",
       "      <td>0</td>\n",
       "      <td>False</td>\n",
       "      <td>True</td>\n",
       "      <td>False</td>\n",
       "      <td>False</td>\n",
       "      <td>True</td>\n",
       "      <td>False</td>\n",
       "      <td>False</td>\n",
       "      <td>False</td>\n",
       "      <td>False</td>\n",
       "    </tr>\n",
       "  </tbody>\n",
       "</table>\n",
       "</div>"
      ],
      "text/plain": [
       "    age  hypertension  heart_disease    bmi  HbA1c_level  blood_glucose_level  \\\n",
       "0  80.0             0              1  25.19          6.6                  140   \n",
       "1  54.0             0              0  27.32          6.6                   80   \n",
       "2  28.0             0              0  27.32          5.7                  158   \n",
       "3  36.0             0              0  23.45          5.0                  155   \n",
       "4  76.0             1              1  20.14          4.8                  155   \n",
       "\n",
       "   diabetes  gender_Female  gender_Male  gender_Other  \\\n",
       "0         0           True        False         False   \n",
       "1         0           True        False         False   \n",
       "2         0          False         True         False   \n",
       "3         0           True        False         False   \n",
       "4         0          False         True         False   \n",
       "\n",
       "   smoking_history_No Info  smoking_history_current  smoking_history_ever  \\\n",
       "0                    False                    False                 False   \n",
       "1                     True                    False                 False   \n",
       "2                    False                    False                 False   \n",
       "3                    False                     True                 False   \n",
       "4                    False                     True                 False   \n",
       "\n",
       "   smoking_history_former  smoking_history_never  smoking_history_not current  \n",
       "0                   False                   True                        False  \n",
       "1                   False                  False                        False  \n",
       "2                   False                   True                        False  \n",
       "3                   False                  False                        False  \n",
       "4                   False                  False                        False  "
      ]
     },
     "execution_count": 92,
     "metadata": {},
     "output_type": "execute_result"
    }
   ],
   "source": [
    "df_dummies.head()"
   ]
  },
  {
   "cell_type": "code",
   "execution_count": 98,
   "id": "a8be99e7-c787-49c3-8d8e-2dc208889f26",
   "metadata": {},
   "outputs": [],
   "source": [
    "df_dummies_sin_outliers = df_dummies\n",
    "\n",
    "\n",
    "#Define a function to remove outliers based on IQR\n",
    "def remove_outliers_iqr(df_dummies_sin_outliers, column_name):\n",
    "    Q1 = df_dummies_sin_outliers[column_name].quantile(0.25)\n",
    "    Q3 = df_dummies_sin_outliers[column_name].quantile(0.75)\n",
    "    IQR = Q3 - Q1\n",
    "    lower_bound = Q1 - 1.5 * IQR\n",
    "    upper_bound = Q3 + 1.5 * IQR\n",
    "    return df_dummies_sin_outliers[(df_dummies_sin_outliers[column_name] >= lower_bound) & (df_dummies_sin_outliers[column_name] <= upper_bound)]\n",
    "\n",
    "\n",
    "#List of columns where you want to remove outliers\n",
    "columns_to_remove_outliers = ['bmi']\n",
    "\n",
    "\n",
    "#Remove outliers in the selected columns\n",
    "for column in columns_to_remove_outliers:\n",
    "    data_sin_outliers = remove_outliers_iqr(df_dummies_sin_outliers, column)"
   ]
  },
  {
   "cell_type": "markdown",
   "id": "5896baf9-faa4-42a7-9ed1-34f4b2fef407",
   "metadata": {},
   "source": [
    "Inference: \n",
    "- We have the outlier-free dataframe 'data_sin_outliers' and the dataframe with outliers 'df_dummies'."
   ]
  },
  {
   "cell_type": "code",
   "execution_count": null,
   "id": "c08614c1-5139-4411-9362-f0d5f8f45220",
   "metadata": {},
   "outputs": [],
   "source": [
    "#Save the DataFrames as a CSV file\n",
    "data_sin_outliers.to_csv('data_sin_outliers.csv', index=False)\n",
    "df_dummies.to_csv('df_dummies.csv', index=False)"
   ]
  }
 ],
 "metadata": {
  "kernelspec": {
   "display_name": "anaconda-ai-2024.04-py310",
   "language": "python",
   "name": "conda-env-anaconda-ai-2024.04-py310-py"
  },
  "language_info": {
   "codemirror_mode": {
    "name": "ipython",
    "version": 3
   },
   "file_extension": ".py",
   "mimetype": "text/x-python",
   "name": "python",
   "nbconvert_exporter": "python",
   "pygments_lexer": "ipython3",
   "version": "3.10.13"
  },
  "widgets": {
   "application/vnd.jupyter.widget-state+json": {
    "state": {},
    "version_major": 2,
    "version_minor": 0
   }
  }
 },
 "nbformat": 4,
 "nbformat_minor": 5
}
